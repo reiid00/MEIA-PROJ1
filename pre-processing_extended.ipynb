{
  "cells": [
    {
      "cell_type": "code",
      "execution_count": null,
      "metadata": {
        "id": "rtdx2Yj5JsEP"
      },
      "outputs": [],
      "source": [
        "%pip install pandas\n",
        "%pip install xlrd\n",
        "%pip install openpyxl"
      ]
    },
    {
      "cell_type": "code",
      "execution_count": 3,
      "metadata": {
        "id": "32Q_OhdEJsES"
      },
      "outputs": [],
      "source": [
        "import pandas as pd"
      ]
    },
    {
      "cell_type": "code",
      "execution_count": null,
      "metadata": {
        "id": "lmXXPHVQJsEU"
      },
      "outputs": [],
      "source": [
        "dataset_prod_1 = pd.read_excel(\"DATASET/Produtos/Produtos/Produtos_1.xls\",\"Produtos\")\n",
        "dataset_prod_2 = pd.read_excel(\"DATASET/Produtos/Produtos/Produtos_2.xls\",\"Query\")\n",
        "dataset_prod_3 = pd.read_excel(\"DATASET/Produtos/Produtos/Produtos_3.xls\",\"Query\")\n",
        "dataset_prod_4 = pd.read_excel(\"DATASET/Produtos/Produtos/Produtos_4.xls\",\"Query\")\n",
        "dataset_prod_5 = pd.read_excel(\"DATASET/Produtos/Produtos/Produtos_5.xls\",\"Query\")\n",
        "dataset_prod_6 = pd.read_excel(\"DATASET/Produtos/Produtos/Produtos_6.xls\",\"Query\")\n",
        "dataset_prod_7 = pd.read_excel(\"DATASET/Produtos/Produtos/Produtos_7.xls\",\"Query\")\n"
      ]
    },
    {
      "cell_type": "code",
      "execution_count": null,
      "metadata": {
        "id": "mDtsd0cfJsEX"
      },
      "outputs": [],
      "source": [
        "dataset_prod_merged = pd.concat([dataset_prod_1,dataset_prod_2,dataset_prod_3,dataset_prod_4,dataset_prod_5,dataset_prod_6,dataset_prod_7])"
      ]
    },
    {
      "cell_type": "code",
      "execution_count": null,
      "metadata": {
        "id": "lh1GWrIoJsEY",
        "outputId": "378795bc-b404-41f1-b994-b1ad1b86aad4"
      },
      "outputs": [
        {
          "name": "stdout",
          "output_type": "stream",
          "text": [
            "      Código                           Nome                      Descrição  \\\n",
            "0          1              TESTE HOMOLOGACAO              TESTE HOMOLOGACAO   \n",
            "1          2      PENALTY 353026-645 TACTEL      PENALTY 353026-645 TACTEL   \n",
            "2          3      PENALTY 353028-650 TACTEL      PENALTY 353028-650 TACTEL   \n",
            "3          4      PENALTY 353028-625 TACTEL      PENALTY 353028-625 TACTEL   \n",
            "4          5  PENALTY 353025-652 MICROFIBRA  PENALTY 353025-652 MICROFIBRA   \n",
            "...      ...                            ...                            ...   \n",
            "1400  396297       COLUMBIA 1464091/464 MHO       COLUMBIA 1464091/464 MHO   \n",
            "1401  396298       COLUMBIA 1911321/011 PTO       COLUMBIA 1911321/011 PTO   \n",
            "1402  396299       COLUMBIA 1682201/030 CZA       COLUMBIA 1682201/030 CZA   \n",
            "1403  396300       COLUMBIA 1682201/010 PTO       COLUMBIA 1682201/010 PTO   \n",
            "1404  396301        KILDARE 232N MALTE CITY        KILDARE 232N MALTE CITY   \n",
            "\n",
            "     Unidade  Fornecedor  Marca  Estoque  Situação Tributária  IPI de Entrada  \\\n",
            "0         UN         NaN    0.0      NaN                  0.0             0.0   \n",
            "1         UN         NaN    0.0      NaN                  NaN             0.0   \n",
            "2         UN         NaN    0.0      NaN                  NaN             0.0   \n",
            "3         UN         NaN    0.0      NaN                  NaN             0.0   \n",
            "4         UN         NaN    0.0      NaN                  NaN             0.0   \n",
            "...      ...         ...    ...      ...                  ...             ...   \n",
            "1400      UN         NaN    NaN      NaN                  0.0             NaN   \n",
            "1401      UN         NaN    NaN      NaN                  0.0             NaN   \n",
            "1402      UN         NaN    NaN      NaN                  0.0             NaN   \n",
            "1403      UN         NaN    NaN      NaN                  0.0             NaN   \n",
            "1404      PR         NaN    NaN      NaN                  0.0             NaN   \n",
            "\n",
            "      IPI de Saída  ...  Classificação13  Classificação14  Classificação15  \\\n",
            "0              0.0  ...                3                0              230   \n",
            "1              0.0  ...                3                2                1   \n",
            "2              0.0  ...                3                2                1   \n",
            "3              0.0  ...                3                2                1   \n",
            "4              0.0  ...                3                2                1   \n",
            "...            ...  ...              ...              ...              ...   \n",
            "1400           NaN  ...                1                2              203   \n",
            "1401           NaN  ...                1                2              203   \n",
            "1402           NaN  ...                1                2              203   \n",
            "1403           NaN  ...                1                2              203   \n",
            "1404           NaN  ...                2                3              173   \n",
            "\n",
            "      Marcação       CEST  EAN  NCM  Código do Benefício  \\\n",
            "0            0  1234567.0  NaN  NaN                  NaN   \n",
            "1            0        NaN  NaN  NaN                  NaN   \n",
            "2            0        NaN  NaN  NaN                  NaN   \n",
            "3            0        NaN  NaN  NaN                  NaN   \n",
            "4            0        NaN  NaN  NaN                  NaN   \n",
            "...        ...        ...  ...  ...                  ...   \n",
            "1400         3        NaN  NaN  NaN                  NaN   \n",
            "1401         3        NaN  NaN  NaN                  NaN   \n",
            "1402         3        NaN  NaN  NaN                  NaN   \n",
            "1403         3        NaN  NaN  NaN                  NaN   \n",
            "1404         1        NaN  NaN  NaN                  NaN   \n",
            "\n",
            "      Descrição para Internet  Habilitado para Internet  \n",
            "0                         NaN                       NaN  \n",
            "1                         NaN                       NaN  \n",
            "2                         NaN                       NaN  \n",
            "3                         NaN                       NaN  \n",
            "4                         NaN                       NaN  \n",
            "...                       ...                       ...  \n",
            "1400                      NaN                       NaN  \n",
            "1401                      NaN                       NaN  \n",
            "1402                      NaN                       NaN  \n",
            "1403                      NaN                       NaN  \n",
            "1404                      NaN                       NaN  \n",
            "\n",
            "[394615 rows x 51 columns]\n"
          ]
        }
      ],
      "source": [
        "print(dataset_prod_merged)"
      ]
    },
    {
      "cell_type": "code",
      "source": [],
      "metadata": {
        "id": "9il_0dg5LOcU"
      },
      "execution_count": null,
      "outputs": []
    },
    {
      "cell_type": "code",
      "execution_count": null,
      "metadata": {
        "id": "RsKnB3INJsEZ",
        "outputId": "8d7d8994-840b-4a35-e3de-b800ca7fc9b4"
      },
      "outputs": [
        {
          "name": "stdout",
          "output_type": "stream",
          "text": [
            "394615\n",
            "Size is correct!\n",
            "Number of columns is correct\n",
            "Concatenation was correctly made!\n"
          ]
        }
      ],
      "source": [
        "print(len(dataset_prod_merged))\n",
        "size_all_prod_datasets = len(dataset_prod_1) + len(dataset_prod_2) + len(dataset_prod_4)+ len(dataset_prod_3)+ len(dataset_prod_5)+ len(dataset_prod_6)+ len(dataset_prod_7)\n",
        "if len(dataset_prod_merged) == size_all_prod_datasets :\n",
        "    print(\"Size is correct!\")\n",
        "\n",
        "if len(dataset_prod_merged.columns) == len(dataset_prod_1.columns):\n",
        "    print(\"Number of columns is correct\")\n",
        "\n",
        "print(\"Concatenation was correctly made!\")\n"
      ]
    },
    {
      "cell_type": "code",
      "execution_count": null,
      "metadata": {
        "id": "pfzjHwVYJsEa",
        "outputId": "fa602624-f02d-48d2-cf29-6a8ae690491c"
      },
      "outputs": [
        {
          "name": "stdout",
          "output_type": "stream",
          "text": [
            "Index(['Código', 'Nome', 'Descrição', 'Unidade', 'Fornecedor', 'Marca',\n",
            "       'Estoque', 'Situação Tributária', 'IPI de Entrada', 'IPI de Saída',\n",
            "       'ICMS de entrada', 'Base de ICMS reduzida na entrada', 'ICMS de saída',\n",
            "       'Base de ICMS reduzida na saída', 'Referência', 'Localização',\n",
            "       'Não Incluir na Lista de Preços', 'Margem', 'Classificação Fiscal',\n",
            "       'Classificação1', 'Classificação2', 'Classificação3', 'Classificação4',\n",
            "       'Classificação5', 'Classificação6', 'Classificação7', 'Classificação8',\n",
            "       'Classificação9', 'Observações', 'Código Anterior',\n",
            "       'Data da última atualização', 'Nome da marca', 'Complemento',\n",
            "       'Desconto Promocional', 'Saldo', 'Lucratividade', 'Coleção',\n",
            "       'Comprador', 'Classificação10', 'Classificação11', 'Classificação12',\n",
            "       'Classificação13', 'Classificação14', 'Classificação15', 'Marcação',\n",
            "       'CEST', 'EAN', 'NCM', 'Código do Benefício', 'Descrição para Internet',\n",
            "       'Habilitado para Internet'],\n",
            "      dtype='object')\n"
          ]
        }
      ],
      "source": [
        "print(dataset_prod_merged.columns)"
      ]
    },
    {
      "cell_type": "code",
      "execution_count": null,
      "metadata": {
        "id": "gEdZDIJJJsEb"
      },
      "outputs": [],
      "source": [
        "ds_prod = dataset_prod_merged[[\"Código\",\"Nome\",\"Unidade\",\"Data da última atualização\",\"Nome da marca\",\"Classificação11\",\"Classificação12\",\"Classificação13\",\"Classificação14\",\"Classificação15\"]]"
      ]
    },
    {
      "cell_type": "code",
      "execution_count": null,
      "metadata": {
        "id": "uzqYRYl7JsEc",
        "outputId": "f50cff57-c6d3-4c7c-f991-2080526a1f6b"
      },
      "outputs": [
        {
          "name": "stdout",
          "output_type": "stream",
          "text": [
            "Index(['Código', 'Nome', 'Unidade', 'Data da última atualização',\n",
            "       'Nome da marca', 'Classificação11', 'Classificação12',\n",
            "       'Classificação13', 'Classificação14', 'Classificação15'],\n",
            "      dtype='object')\n"
          ]
        }
      ],
      "source": [
        "print(ds_prod.columns)"
      ]
    },
    {
      "cell_type": "code",
      "execution_count": null,
      "metadata": {
        "id": "wQHZYliFJsEe"
      },
      "outputs": [],
      "source": [
        "ds_cl_prod = pd.read_excel(\"DATASET/Produtos/Produtos/Classificacoes_dos_produtos.xlsx\",nrows=900)"
      ]
    },
    {
      "cell_type": "code",
      "source": [],
      "metadata": {
        "id": "tHX4WtpRMme5"
      },
      "execution_count": null,
      "outputs": []
    },
    {
      "cell_type": "code",
      "execution_count": null,
      "metadata": {
        "id": "PLT_NeNPJsEf",
        "outputId": "4425c6d2-15ce-493f-ed16-3c2d9e6fd52f"
      },
      "outputs": [
        {
          "name": "stdout",
          "output_type": "stream",
          "text": [
            "     Classificação  Código                Nome  Classificação Fiscal  \\\n",
            "0                1       1              ABRIGO                  61.0   \n",
            "1                1       2              AGENDA                  49.0   \n",
            "2                1       3              AGULHA                  95.0   \n",
            "3                1       4           ALPARGATA                  64.0   \n",
            "4                1       5            APARELHO                  95.0   \n",
            "..             ...     ...                 ...                   ...   \n",
            "667             15     376            ELASTICO                   NaN   \n",
            "668             15     377  ESCADA TREINAMENTO                   NaN   \n",
            "669             15     378         PORTA DOLAR                   NaN   \n",
            "670             15     379              ESCOVA                   NaN   \n",
            "671             15     380         TENIS ELBOW                   NaN   \n",
            "\n",
            "     Classificação Fiscal Completa  \n",
            "0                       61034900.0  \n",
            "1                       49019900.0  \n",
            "2                       95069900.0  \n",
            "3                       64059000.0  \n",
            "4                       95069100.0  \n",
            "..                             ...  \n",
            "667                            NaN  \n",
            "668                            NaN  \n",
            "669                            NaN  \n",
            "670                            NaN  \n",
            "671                            NaN  \n",
            "\n",
            "[672 rows x 5 columns]\n"
          ]
        }
      ],
      "source": [
        "print(ds_cl_prod)"
      ]
    },
    {
      "cell_type": "code",
      "execution_count": null,
      "metadata": {
        "id": "JzvjqnBHJsEh"
      },
      "outputs": [],
      "source": [
        "ds_cl_prod_merged = ds_cl_prod[[\"Classificação\",\"Código\",\"Nome\"]]"
      ]
    },
    {
      "cell_type": "code",
      "execution_count": null,
      "metadata": {
        "id": "cbiN-yrrJsEi",
        "outputId": "c542dbb5-6f79-4dc5-9a87-15ec826d1923"
      },
      "outputs": [
        {
          "name": "stdout",
          "output_type": "stream",
          "text": [
            "      Código                      Nome Unidade Data da última atualização  \\\n",
            "1400  396297  COLUMBIA 1464091/464 MHO      UN        2022-11-25 00:00:00   \n",
            "1401  396298  COLUMBIA 1911321/011 PTO      UN        2022-11-25 00:00:00   \n",
            "1402  396299  COLUMBIA 1682201/030 CZA      UN        2022-11-25 00:00:00   \n",
            "1403  396300  COLUMBIA 1682201/010 PTO      UN        2022-11-25 00:00:00   \n",
            "1404  396301   KILDARE 232N MALTE CITY      PR        2022-11-28 00:00:00   \n",
            "\n",
            "     Nome da marca  Classificação11  Classificação12  Classificação13  \\\n",
            "1400      COLUMBIA                3                2                1   \n",
            "1401      COLUMBIA                3                2                1   \n",
            "1402      COLUMBIA                3                2                1   \n",
            "1403      COLUMBIA                3                2                1   \n",
            "1404       KILDARE                1                3                2   \n",
            "\n",
            "      Classificação14  Classificação15  \n",
            "1400                2              203  \n",
            "1401                2              203  \n",
            "1402                2              203  \n",
            "1403                2              203  \n",
            "1404                3              173  \n"
          ]
        }
      ],
      "source": [
        "print(ds_prod.tail())"
      ]
    },
    {
      "cell_type": "code",
      "execution_count": null,
      "metadata": {
        "id": "bOuAhGpTJsEi",
        "outputId": "ae607cb4-d1fa-4eff-ea56-a72db88fc4c8"
      },
      "outputs": [
        {
          "name": "stdout",
          "output_type": "stream",
          "text": [
            "     Classificação  Código                Nome\n",
            "667             15     376            ELASTICO\n",
            "668             15     377  ESCADA TREINAMENTO\n",
            "669             15     378         PORTA DOLAR\n",
            "670             15     379              ESCOVA\n",
            "671             15     380         TENIS ELBOW\n"
          ]
        }
      ],
      "source": [
        "print(ds_cl_prod_merged.tail())"
      ]
    },
    {
      "cell_type": "code",
      "execution_count": null,
      "metadata": {
        "id": "HK6-ajG0JsEj"
      },
      "outputs": [],
      "source": [
        "ds_cl_prod_11 = ds_cl_prod_merged.loc[ds_cl_prod_merged['Classificação'] == 12].rename(columns={\"Código\":\"Código_Class_11\",\"Nome\":\"Nome_Class_11\"})\n",
        "ds_cl_prod_12 = ds_cl_prod_merged.loc[ds_cl_prod_merged['Classificação'] == 12].rename(columns={\"Código\":\"Código_Class_12\",\"Nome\":\"Nome_Class_12\"})\n",
        "ds_cl_prod_13 = ds_cl_prod_merged.loc[ds_cl_prod_merged['Classificação'] == 13].rename(columns={\"Código\":\"Código_Class_13\",\"Nome\":\"Nome_Class_13\"})\n",
        "ds_cl_prod_14 = ds_cl_prod_merged.loc[ds_cl_prod_merged['Classificação'] == 14].rename(columns={\"Código\":\"Código_Class_14\",\"Nome\":\"Nome_Class_14\"})\n",
        "ds_cl_prod_15 = ds_cl_prod_merged.loc[ds_cl_prod_merged['Classificação'] == 15].rename(columns={\"Código\":\"Código_Class_15\",\"Nome\":\"Nome_Class_15\"})\n"
      ]
    },
    {
      "cell_type": "code",
      "execution_count": null,
      "metadata": {
        "id": "n2nQAuSgJsEj",
        "outputId": "027ff097-8554-4ae6-ab57-a7be3b0fc2d2"
      },
      "outputs": [
        {
          "name": "stdout",
          "output_type": "stream",
          "text": [
            "     Classificação  Código_Class_15       Nome_Class_15\n",
            "300             15                0                   .\n",
            "301             15                1              ABRIGO\n",
            "302             15                2              AGULHA\n",
            "303             15                3              AJUSTE\n",
            "304             15                4             ALICATE\n",
            "..             ...              ...                 ...\n",
            "667             15              376            ELASTICO\n",
            "668             15              377  ESCADA TREINAMENTO\n",
            "669             15              378         PORTA DOLAR\n",
            "670             15              379              ESCOVA\n",
            "671             15              380         TENIS ELBOW\n",
            "\n",
            "[372 rows x 3 columns]\n"
          ]
        }
      ],
      "source": [
        "print(ds_cl_prod_15)"
      ]
    },
    {
      "cell_type": "code",
      "execution_count": null,
      "metadata": {
        "id": "eB_sv6zpJsEl",
        "outputId": "652826c4-88b7-4796-eda7-d7f3404f7e0d"
      },
      "outputs": [
        {
          "name": "stdout",
          "output_type": "stream",
          "text": [
            "   Código                           Nome Unidade Data da última atualização  \\\n",
            "0       1              TESTE HOMOLOGACAO      UN        2016-06-27 00:00:00   \n",
            "1       2      PENALTY 353026-645 TACTEL      UN        2012-06-15 00:00:00   \n",
            "2       3      PENALTY 353028-650 TACTEL      UN                        NaT   \n",
            "3       4      PENALTY 353028-625 TACTEL      UN                        NaT   \n",
            "4       5  PENALTY 353025-652 MICROFIBRA      UN                        NaT   \n",
            "\n",
            "  Nome da marca  Classificação11  Classificação12  Classificação13  \\\n",
            "0         TESTE                0                3                3   \n",
            "1       PENALTY                3                2                3   \n",
            "2       PENALTY                3                3                3   \n",
            "3       PENALTY                3                2                3   \n",
            "4       PENALTY                3                3                3   \n",
            "\n",
            "   Classificação14  Classificação15  \n",
            "0                0              230  \n",
            "1                2                1  \n",
            "2                2                1  \n",
            "3                2                1  \n",
            "4                2                1  \n"
          ]
        }
      ],
      "source": [
        "print(ds_prod.head())"
      ]
    },
    {
      "cell_type": "code",
      "execution_count": null,
      "metadata": {
        "id": "PsrFzasWJsEl"
      },
      "outputs": [],
      "source": [
        "ds_prod = pd.merge(ds_prod,ds_cl_prod_11[['Código_Class_11','Nome_Class_11']], left_on='Classificação11', right_on='Código_Class_11', how='left').drop(columns=[\"Código_Class_11\"])\n",
        "ds_prod = pd.merge(ds_prod,ds_cl_prod_12[['Código_Class_12','Nome_Class_12']], left_on='Classificação12', right_on='Código_Class_12', how='left').drop(columns=[\"Código_Class_12\"])\n",
        "ds_prod = pd.merge(ds_prod,ds_cl_prod_13[['Código_Class_13','Nome_Class_13']], left_on='Classificação13', right_on='Código_Class_13', how='left').drop(columns=[\"Código_Class_13\"])\n",
        "ds_prod = pd.merge(ds_prod,ds_cl_prod_14[['Código_Class_14','Nome_Class_14']], left_on='Classificação14', right_on='Código_Class_14', how='left').drop(columns=[\"Código_Class_14\"])\n",
        "ds_prod = pd.merge(ds_prod,ds_cl_prod_15[['Código_Class_15','Nome_Class_15']], left_on='Classificação15', right_on='Código_Class_15', how='left').drop(columns=[\"Código_Class_15\"])"
      ]
    },
    {
      "cell_type": "code",
      "execution_count": null,
      "metadata": {
        "id": "SDE1iagaJsEm",
        "outputId": "f3c33ab2-74bb-4469-e2a2-6ed20bedc45a"
      },
      "outputs": [
        {
          "name": "stdout",
          "output_type": "stream",
          "text": [
            "        Código                      Nome Unidade Data da última atualização  \\\n",
            "394610  396297  COLUMBIA 1464091/464 MHO      UN        2022-11-25 00:00:00   \n",
            "394611  396298  COLUMBIA 1911321/011 PTO      UN        2022-11-25 00:00:00   \n",
            "394612  396299  COLUMBIA 1682201/030 CZA      UN        2022-11-25 00:00:00   \n",
            "394613  396300  COLUMBIA 1682201/010 PTO      UN        2022-11-25 00:00:00   \n",
            "394614  396301   KILDARE 232N MALTE CITY      PR        2022-11-28 00:00:00   \n",
            "\n",
            "       Nome da marca  Classificação11  Classificação12  Classificação13  \\\n",
            "394610      COLUMBIA                3                2                1   \n",
            "394611      COLUMBIA                3                2                1   \n",
            "394612      COLUMBIA                3                2                1   \n",
            "394613      COLUMBIA                3                2                1   \n",
            "394614       KILDARE                1                3                2   \n",
            "\n",
            "        Classificação14  Classificação15 Nome_Class_11 Nome_Class_12  \\\n",
            "394610                2              203         GERAL     ESPORTIVO   \n",
            "394611                2              203         GERAL     ESPORTIVO   \n",
            "394612                2              203         GERAL     ESPORTIVO   \n",
            "394613                2              203         GERAL     ESPORTIVO   \n",
            "394614                3              173      BOUTIQUE         GERAL   \n",
            "\n",
            "       Nome_Class_13 Nome_Class_14     Nome_Class_15  \n",
            "394610      FEMININO       INVERNO             TOUCA  \n",
            "394611      FEMININO       INVERNO             TOUCA  \n",
            "394612      FEMININO       INVERNO             TOUCA  \n",
            "394613      FEMININO       INVERNO             TOUCA  \n",
            "394614     MASCULINO         ANUAL  SAPATO SAPATENIS  \n"
          ]
        }
      ],
      "source": [
        "print(ds_prod.tail())"
      ]
    },
    {
      "cell_type": "code",
      "execution_count": null,
      "metadata": {
        "id": "p8GmFQ4ZJsEn"
      },
      "outputs": [],
      "source": [
        "ds_cl_prod = pd.read_excel(\"DATASET/Produtos/Produtos/Classificacoes_dos_produtos.xlsx\",nrows=900)"
      ]
    },
    {
      "cell_type": "code",
      "execution_count": null,
      "metadata": {
        "id": "Gw4-AaaQJsEn"
      },
      "outputs": [],
      "source": [
        "dataset_detMov_2018_1 = pd.read_excel(\"DATASET/DetalheMovimentação/DetalheMovimentação_2018_Esportes_1.xls\",\"Query\")\n",
        "dataset_detMov_2018_2 = pd.read_excel(\"DATASET/DetalheMovimentação/DetalheMovimentação_2018_Esportes_2.xls\",\"Query\")\n",
        "dataset_detMov_2019_1 = pd.read_excel(\"DATASET/DetalheMovimentação/DetalheMovimentação_2019_Esportes_1.xls\",\"Query\")\n",
        "dataset_detMov_2019_2 = pd.read_excel(\"DATASET/DetalheMovimentação/DetalheMovimentação_2019_Esportes_2.xls\",\"Query\")\n",
        "dataset_detMov_2020_1 = pd.read_excel(\"DATASET/DetalheMovimentação/DetalheMovimentação_2020_Esportes_1.xls\",\"Query\")\n",
        "dataset_detMov_2020_2 = pd.read_excel(\"DATASET/DetalheMovimentação/DetalheMovimentação_2020_Esportes_2.xls\",\"Query\")\n",
        "dataset_detMov_2021_1 = pd.read_excel(\"DATASET/DetalheMovimentação/DetalheMovimentação_2021_Esportes_1.xls\",\"Query\")\n",
        "dataset_detMov_2021_2 = pd.read_excel(\"DATASET/DetalheMovimentação/DetalheMovimentação_2021_Esportes_2.xls\",\"Query\")\n",
        "dataset_detMov_2022 = pd.read_excel(\"DATASET/DetalheMovimentação/DetalheMovimentação_2022_Esportes.xls\",\"Query\")\n",
        "\n"
      ]
    },
    {
      "cell_type": "code",
      "source": [
        "dataset_detMov_merged = pd.concat([dataset_detMov_2018_1,dataset_detMov_2018_2,dataset_detMov_2019_1,dataset_detMov_2019_2,dataset_detMov_2020_1,dataset_detMov_2020_2,dataset_detMov_2021_1,dataset_detMov_2021_2,dataset_detMov_2022])"
      ],
      "metadata": {
        "id": "V-KHOsQAK_3V"
      },
      "execution_count": null,
      "outputs": []
    },
    {
      "cell_type": "code",
      "source": [
        "print(dataset_detMov_merged)"
      ],
      "metadata": {
        "id": "diEFL3i6LKr5"
      },
      "execution_count": null,
      "outputs": []
    },
    {
      "cell_type": "code",
      "source": [
        "dataset_detMov = dataset_detMov_merged[[\"Data do Movimento\",\"Operação\",\"Produto\",\"Tamanho\",\"Quantidade\",\"Valor original\"]]"
      ],
      "metadata": {
        "id": "2hxdvZ_zLQQl"
      },
      "execution_count": null,
      "outputs": []
    },
    {
      "cell_type": "code",
      "source": [
        "ds_tam_aux = pd.read_excel(\"DATASET/Tamanhos/Tamanhos.xlsx\",\"Tamanhos\")\n",
        "ds_tam = ds_tam_aux.rename(columns={\"Código\":\"Código_Tamanho\",\"Nome\":\"Nome_Tamanho\"})"
      ],
      "metadata": {
        "id": "nCyYbvZqMyTe"
      },
      "execution_count": null,
      "outputs": []
    },
    {
      "cell_type": "code",
      "source": [
        "dataset_detMov = pd.merge(dataset_detMov,ds_tam, left_on='Tamanho', right_on='Código_Tamanho', how='left').drop(columns=[\"Código_Tamanho\"])"
      ],
      "metadata": {
        "id": "y0LWsU7GNopF"
      },
      "execution_count": null,
      "outputs": []
    },
    {
      "cell_type": "code",
      "source": [
        "print(dataset_detMov.tail())"
      ],
      "metadata": {
        "id": "UAF_ZjWjOaE1"
      },
      "execution_count": null,
      "outputs": []
    },
    {
      "cell_type": "code",
      "source": [
        "ds_prod = ds_prod.rename(columns={\"Código\":\"Código_Produto\",\"Nome\":\"Nome_Produto\", \"Unidade\":\"Unidade_Produto\", \"Data da última atualização\":\"DataUltimaAtualização_Produto\",\"Nome da marca\": \"NomeMarca_Produto\",\"Classificação11\": \"Classificação11_Produto\",\"Classificação12\": \"Classificação12_Produto\",\"Classificação13\": \"Classificação14_Produto\",\"Classificação14\": \"Classificação16_Produto\",\"Classificação15\": \"Classificação15_Produto\", \"Nome_Class_11\": \"Nome_Class_11_Produto\", \"Nome_Class_12\": \"Nome_Class_12_Produto\", \"Nome_Class_13\": \"Nome_Class_13_Produto\", \"Nome_Class_14\": \"Nome_Class_14_Produto\", \"Nome_Class_15\": \"Nome_Class_15_Produto\"})\n",
        "\n",
        "dataset_detMov = pd.merge(dataset_detMov, ds_prod, left_on='Produto', right_on='Código_Produto', how='left').drop(columns=[\"Código_Produto\"])"
      ],
      "metadata": {
        "id": "Na-5iK-yOwhd"
      },
      "execution_count": null,
      "outputs": []
    },
    {
      "cell_type": "code",
      "source": [
        "print(dataset_detMov.head(5))"
      ],
      "metadata": {
        "id": "7m_PlafwRHUR"
      },
      "execution_count": null,
      "outputs": []
    }
  ],
  "metadata": {
    "kernelspec": {
      "display_name": "Python 3.10.9 64-bit (microsoft store)",
      "language": "python",
      "name": "python3"
    },
    "language_info": {
      "codemirror_mode": {
        "name": "ipython",
        "version": 3
      },
      "file_extension": ".py",
      "mimetype": "text/x-python",
      "name": "python",
      "nbconvert_exporter": "python",
      "pygments_lexer": "ipython3",
      "version": "3.10.9"
    },
    "orig_nbformat": 4,
    "vscode": {
      "interpreter": {
        "hash": "dae545736ee78e012acd08c370c6df0e68e8a318016cb2f8480f264d55cb96c2"
      }
    },
    "colab": {
      "provenance": []
    }
  },
  "nbformat": 4,
  "nbformat_minor": 0
}